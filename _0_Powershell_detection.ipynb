{
  "nbformat": 4,
  "nbformat_minor": 0,
  "metadata": {
    "colab": {
      "provenance": [],
      "toc_visible": true,
      "include_colab_link": true
    },
    "kernelspec": {
      "name": "python3",
      "display_name": "Python 3"
    },
    "language_info": {
      "name": "python"
    }
  },
  "cells": [
    {
      "cell_type": "markdown",
      "metadata": {
        "id": "view-in-github",
        "colab_type": "text"
      },
      "source": [
        "<a href=\"https://colab.research.google.com/github/Vikbobvia/Powershell_detection/blob/main/_0_Powershell_detection.ipynb\" target=\"_parent\"><img src=\"https://colab.research.google.com/assets/colab-badge.svg\" alt=\"Open In Colab\"/></a>"
      ]
    },
    {
      "cell_type": "code",
      "source": [
        "!git clone https://github.com/das-lab/mpsd.git\n",
        "!git clone https://github.com/mingruimingrui/Convolution-neural-networks-made-easy-with-keras.git\n",
        "import os\n",
        "folder_path = \"/content/mpsd/malicious_pure\""
      ],
      "metadata": {
        "id": "jINzl7MvWb2F",
        "colab": {
          "base_uri": "https://localhost:8080/"
        },
        "outputId": "8d34b300-db1f-4b65-d952-f21bed228312"
      },
      "execution_count": null,
      "outputs": [
        {
          "output_type": "stream",
          "name": "stdout",
          "text": [
            "Cloning into 'mpsd'...\n",
            "remote: Enumerating objects: 10421, done.\u001b[K\n",
            "remote: Counting objects: 100% (10421/10421), done.\u001b[K\n",
            "remote: Compressing objects: 100% (9216/9216), done.\u001b[K\n",
            "remote: Total 10421 (delta 1200), reused 10418 (delta 1200), pack-reused 0\u001b[K\n",
            "Receiving objects: 100% (10421/10421), 37.78 MiB | 18.64 MiB/s, done.\n",
            "Resolving deltas: 100% (1200/1200), done.\n",
            "Updating files: 100% (12721/12721), done.\n"
          ]
        }
      ]
    },
    {
      "cell_type": "code",
      "source": [
        "\n",
        "def read_psi_files(folder_path):\n",
        "  \"\"\"\n",
        "  Reads all files with the .psi extension in a folder and prints them line by line.\n",
        "\n",
        "  Args:\n",
        "      folder_path: The path to the folder containing the .psi files.\n",
        "  \"\"\"\n",
        "  # Check if folder exists\n",
        "  if not os.path.isdir(folder_path):\n",
        "    print(f\"Error: Folder '{folder_path}' does not exist.\")\n",
        "    return\n",
        "\n",
        "  # Loop through files in the folder\n",
        "  number_loop = 5\n",
        "  index = 0\n",
        "  for filename in os.listdir(folder_path):\n",
        "    if filename.endswith(\".ps1\"):\n",
        "      file_path = os.path.join(folder_path, filename)\n",
        "      # Open the file in read mode\n",
        "      with open(file_path, 'r') as f:\n",
        "        # Read all lines and print them\n",
        "        for line in f:\n",
        "          print(line.strip())\n",
        "    index += 1\n",
        "    if (index >= number_loop) : break\n",
        "\n",
        "# Example usage\n",
        "read_psi_files(folder_path)\n"
      ],
      "metadata": {
        "id": "tnNyecDtdMla"
      },
      "execution_count": null,
      "outputs": []
    },
    {
      "cell_type": "code",
      "source": [
        "import base64\n",
        "import os\n",
        "\n",
        "def check_for_base64_encoded_powershell(file_path):\n",
        "    \"\"\"Checks if a file contains potential Base64-encoded PowerShell commands.\"\"\"\n",
        "    with open(file_path, 'r') as file:\n",
        "        for line in file:\n",
        "            if line.lower().startswith(('-e', '-E')):\n",
        "                    print(f\"Potential PowerShell command found (starts with -e or -E): {file_path}\")\n",
        "                    return True\n",
        "            try:\n",
        "                # Attempt to decode the line as Base64\n",
        "                decoded_bytes = base64.b64decode(line)\n",
        "                decoded_text = decoded_bytes.decode('utf-8')\n",
        "\n",
        "                # Check for common PowerShell keywords in the decoded text\n",
        "                if \"powershell\" in decoded_text.lower():\n",
        "                    # Potential Base64-encoded PowerShell command found\n",
        "                    return True\n",
        "\n",
        "\n",
        "\n",
        "            except Exception:\n",
        "                # Not a valid Base64 string, continue to the next line\n",
        "                pass\n",
        "\n",
        "    return False\n",
        "\n",
        "def count_encoded_files(folder_path):\n",
        "    \"\"\"Counts the number of files containing potential Base64-encoded PowerShell commands.\"\"\"\n",
        "    encoded_file_count = 0\n",
        "    for root, _, files in os.walk(folder_path):\n",
        "        for filename in files:\n",
        "            file_path = os.path.join(root, filename)\n",
        "            if check_for_base64_encoded_powershell(file_path):\n",
        "                encoded_file_count += 1\n",
        "                print(f\"Potential Base64-encoded PowerShell found in: {file_path}\")\n",
        "\n",
        "    return encoded_file_count\n",
        "\n"
      ],
      "metadata": {
        "id": "S2cPGLT0bcHE"
      },
      "execution_count": null,
      "outputs": []
    },
    {
      "cell_type": "code",
      "source": [
        "\n",
        "encoded_file_count = count_encoded_files(folder_path)\n",
        "print(f\"Total number of potential Base64-encoded PowerShell files: {encoded_file_count}\")\n"
      ],
      "metadata": {
        "colab": {
          "base_uri": "https://localhost:8080/"
        },
        "id": "OdqYpPuWfuwT",
        "outputId": "dbdcb76e-a483-4be8-b678-40781b6ca7f0"
      },
      "execution_count": null,
      "outputs": [
        {
          "output_type": "stream",
          "name": "stdout",
          "text": [
            "Total number of potential Base64-encoded PowerShell files: 0\n"
          ]
        }
      ]
    },
    {
      "cell_type": "code",
      "source": [
        "\n",
        "def Creat_folder (folder_path):\n",
        "  folder_path = folder_path\n",
        "  os.makedirs(folder_path, exist_ok=True)"
      ],
      "metadata": {
        "id": "hSqvRZvg4TAk"
      },
      "execution_count": null,
      "outputs": []
    },
    {
      "cell_type": "code",
      "source": [
        "folder_path_preproccess = '/content/preproccessed'\n",
        "Creat_folder(folder_path_preproccess)\n",
        "folder_path_cache = '/content/preproccessed/cache'\n",
        "Creat_folder(folder_path_cache)\n",
        "folder_path_preproccess_malicious = '/content/preproccessed/malicious_pure_preproccessed'\n",
        "Creat_folder(folder_path_preproccess_malicious)\n",
        "cache_file_path = '/content/preproccessed/cache/cache.ps1'\n",
        "\n"
      ],
      "metadata": {
        "id": "BbXP7nSd4HgF"
      },
      "execution_count": null,
      "outputs": []
    },
    {
      "cell_type": "code",
      "source": [
        "#Edit file functions\n",
        "\n",
        "\n",
        "def Copy_file ( source_file_path, dest_file_path):\n",
        "  # Source and destination file paths\n",
        "  source_file_path = source_file_path  # Change this to your source file path\n",
        "  destination_file_path = dest_file_path  # Change this to your destination file path\n",
        "\n",
        "  # Copying the file using the cp command\n",
        "  !cp {source_file_path} {destination_file_path}\n",
        "\n",
        "  print(f'File copied from {source_file_path} to {destination_file_path}')\n",
        "\n",
        "\n",
        "def Delete_file (file_path):\n",
        "  file_path = file_path\n",
        "  os.remove(file_path)\n",
        "  print(f'File at {file_path} has been deleted')\n",
        "\n",
        "\n",
        "def Process_file (file_path):\n",
        "    return\n",
        "#   # File path to edit\n",
        "#   file_path = file_path  # Change this to the file path you want to edit\n",
        "\n",
        "#   # Step 1: Read the content of the file\n",
        "#   with open(file_path, 'r') as file:\n",
        "#       content = file.readlines()  # Read the content as a list of lines\n",
        "\n",
        "#   # Step 2: Modify the content as needed\n",
        "#   # For example, let's add a comment at the beginning of the file\n",
        "#   modified_content = [\"# This is an edited script\\n\"] + content\n",
        "\n",
        "#   # Step 3: Write the modified content back to the file\n",
        "#   with open(file_path, 'w') as file:\n",
        "#       file.writelines(modified_content)\n",
        "\n",
        "#   print(f'File at {file_path} has been edited')\n",
        "\n",
        "\n",
        "def Save_file (file_path, folder_path, new_name):\n",
        "  # Define the folder path and file path\n",
        "  file_path = file_path  # Define the full file path\n",
        "  folder_path = folder_path  # Change this to the folder path where you want to save the file\n",
        "  new_name = new_name\n",
        "  new_file_path = os.path.join(folder_path, new_name)\n",
        "\n",
        "  # Step 2: Create the folder if it does not exist\n",
        "  if not os.path.exists(folder_path):\n",
        "      os.makedirs(folder_path)\n",
        "\n",
        "  # Step 3: Write the content to the file\n",
        "  Copy_file(file_path, new_file_path)\n",
        "\n",
        "\n",
        "\n",
        "def Get_proccessed_file_name (file_path):\n",
        "    file_path = file_path\n",
        "    file_name = os.path.basename(file_path)\n",
        "    new_file_name = file_name.replace('.ps1', '_preprocessed.ps1')\n",
        "    return new_file_name\n"
      ],
      "metadata": {
        "id": "aTcu6sn7kDEY"
      },
      "execution_count": null,
      "outputs": []
    },
    {
      "cell_type": "code",
      "source": [
        "#Edit Cache_file\n",
        "\n",
        "def Cache_file (file_path):\n",
        "  Copy_file(file_path, cache_file_path)\n",
        "\n",
        "\n",
        "def Process_cache_file():\n",
        "  Process_file(cache_file_path)\n",
        "\n",
        "\n",
        "def Save_cache_file_to_folder_with_original_file_path(folder_path, original_file_path):\n",
        "  new_name = Get_proccessed_file_name(original_file_path)\n",
        "  Save_file(cache_file_path, folder_path, new_name)\n",
        "\n",
        "\n",
        "\n",
        "def Delete_cache_file ():\n",
        "  try :\n",
        "   Delete_file(cache_file_path)\n",
        "\n",
        "  except FileNotFoundError:\n",
        "    # This block will execute if the file is not found\n",
        "    print(f'Error: The file at {file_path} was not found.')\n",
        "\n"
      ],
      "metadata": {
        "id": "ZROdSg5sEa31"
      },
      "execution_count": null,
      "outputs": []
    },
    {
      "cell_type": "code",
      "source": [
        "file_path = '/content/mpsd/malicious_pure/1.ps1'\n",
        "new_folder_path = \"/content/preproccessed/malicious_pure_preproccessed\"\n",
        "Cache_file(file_path)\n",
        "Process_cache_file()\n",
        "Save_cache_file_to_folder_with_original_file_path(new_folder_path, file_path)\n",
        "Delete_cache_file()\n"
      ],
      "metadata": {
        "colab": {
          "base_uri": "https://localhost:8080/"
        },
        "id": "psoH4Wcj0yNa",
        "outputId": "95f94ceb-54d6-4cfe-c097-add6f3a42f11"
      },
      "execution_count": null,
      "outputs": [
        {
          "output_type": "stream",
          "name": "stdout",
          "text": [
            "File copied from /content/mpsd/malicious_pure/1.ps1 to /content/preproccessed/cache/cache.ps1\n",
            "File copied from /content/preproccessed/cache/cache.ps1 to /content/preproccessed/malicious_pure_preproccessed/1_preprocessed.ps1\n",
            "File at /content/preproccessed/cache/cache.ps1 has been deleted\n"
          ]
        }
      ]
    },
    {
      "cell_type": "code",
      "source": [
        "import os\n",
        "\n",
        "def count_files(directory):\n",
        "    count = 0\n",
        "    for root, _, files in os.walk(directory):\n",
        "        count += len(files)\n",
        "    return count\n",
        "\n",
        "# Replace 'path_to_your_folder' with the path to the folder you want to count files in\n",
        "folder_path = '/content/mpsd/malicious_pure'\n",
        "file_count = count_files(folder_path)\n",
        "print(\"Number of files in the folder:\", file_count)\n"
      ],
      "metadata": {
        "colab": {
          "base_uri": "https://localhost:8080/"
        },
        "id": "n-OEdxkGRWRP",
        "outputId": "97ac8fdb-d29e-47e3-8c39-51446cd702af"
      },
      "execution_count": null,
      "outputs": [
        {
          "output_type": "stream",
          "name": "stdout",
          "text": [
            "Number of files in the folder: 4202\n"
          ]
        }
      ]
    },
    {
      "cell_type": "code",
      "source": [
        "def Process_a_file(file_path, new_folder_path):\n",
        "    Cache_file(file_path)\n",
        "    Process_cache_file()\n",
        "    Save_cache_file_to_folder_with_original_file_path(new_folder_path, file_path)\n",
        "    Delete_cache_file()\n",
        "\n",
        "\n",
        "\n",
        "def Process_all_of_folder(folder_path, new_folder_path):\n",
        "   for root, _, files in os.walk(folder_path):\n",
        "        for file in files:\n",
        "            file_path = (os.path.join(root, file))\n",
        "            Process_a_file(file_path, new_folder_path)\n",
        "\n",
        "\n",
        "\n",
        "def Create_all_Process_folder (unprocessed_folder_path, preproccessed_folder_path):\n",
        "    folders = []\n",
        "    for item in os.listdir(unprocessed_folder_path):\n",
        "        # Check if the item is a directory\n",
        "        if os.path.isdir(os.path.join(unprocessed_folder_path, item)) and not item.startswith('.'):\n",
        "          item = item + \"_preproccessed\"\n",
        "          folders.append(item)\n",
        "\n",
        "    for item in folders:\n",
        "        print(item)\n",
        "\n",
        "    try:\n",
        "      for item in folders:\n",
        "          new_folder_path = os.path.join(preproccessed_folder_path, item)\n",
        "          # Check if the folder already exists\n",
        "          if not os.path.exists(new_folder_path):\n",
        "              # If it doesn't exist, create the folder\n",
        "              os.makedirs(new_folder_path)\n",
        "              print(\"Folder created at\", new_folder_path)\n",
        "\n",
        "          else:\n",
        "              print(\"Folder already exists at\", new_folder_path)\n",
        "\n",
        "    except Exception as e:\n",
        "          print(\"Error:\", e)\n",
        "\n",
        "\n",
        "\n",
        "\n",
        "\n",
        "def Process_mpsd(unprocessed_folder_path, preproccessed_folder_path):\n",
        "      Create_all_Process_folder(unprocessed_folder_path, preproccessed_folder_path)\n",
        "      for item in os.listdir(unprocessed_folder_path):\n",
        "        X_folder_path = os.path.join(unprocessed_folder_path ,item)\n",
        "        item = item + \"_preproccessed\"\n",
        "        Y_folder_path = os.path.join(preproccessed_folder_path , item)\n",
        "\n",
        "\n",
        "\n",
        "        if os.path.isdir(X_folder_path ) and os.path.isdir (Y_folder_path) and len(os.listdir(Y_folder_path)) == 0  :\n",
        "          print(\"X_folder_path = \", X_folder_path )\n",
        "          print(\"Y_folder_path = \", Y_folder_path  )\n",
        "          Process_all_of_folder(X_folder_path, Y_folder_path)\n",
        "\n",
        "\n",
        "\n",
        "Process_mpsd(\"/content/mpsd\", \"/content/preproccessed\")"
      ],
      "metadata": {
        "id": "GrFj13el35Wg"
      },
      "execution_count": null,
      "outputs": []
    },
    {
      "cell_type": "code",
      "source": [
        "Creat_folder(\"/content/test\")"
      ],
      "metadata": {
        "id": "LI28rLLj1xyt"
      },
      "execution_count": null,
      "outputs": []
    },
    {
      "cell_type": "code",
      "source": [
        "Process_a_file(\"/content/mpsd/malicious_pure/1000.ps1\", '/content/test')\n",
        "Process_a_file(\"/content/mpsd/malicious_pure/1001.ps1\", '/content/test')\n",
        "Process_a_file(\"/content/mpsd/malicious_pure/1002.ps1\", '/content/test')\n",
        "Process_a_file(\"/content/mpsd/malicious_pure/1003.ps1\", '/content/test')\n"
      ],
      "metadata": {
        "colab": {
          "base_uri": "https://localhost:8080/"
        },
        "id": "Wzh-cfP02B72",
        "outputId": "2a8955d4-1c13-476b-df2d-615752fd2ef9"
      },
      "execution_count": null,
      "outputs": [
        {
          "output_type": "stream",
          "name": "stdout",
          "text": [
            "File copied from /content/mpsd/malicious_pure/1000.ps1 to /content/preproccessed/cache/cache.ps1\n",
            "File copied from /content/preproccessed/cache/cache.ps1 to /content/test/1000_preprocessed.ps1\n",
            "File at /content/preproccessed/cache/cache.ps1 has been deleted\n",
            "File copied from /content/mpsd/malicious_pure/1001.ps1 to /content/preproccessed/cache/cache.ps1\n",
            "File copied from /content/preproccessed/cache/cache.ps1 to /content/test/1001_preprocessed.ps1\n",
            "File at /content/preproccessed/cache/cache.ps1 has been deleted\n",
            "File copied from /content/mpsd/malicious_pure/1002.ps1 to /content/preproccessed/cache/cache.ps1\n",
            "File copied from /content/preproccessed/cache/cache.ps1 to /content/test/1002_preprocessed.ps1\n",
            "File at /content/preproccessed/cache/cache.ps1 has been deleted\n",
            "File copied from /content/mpsd/malicious_pure/1003.ps1 to /content/preproccessed/cache/cache.ps1\n",
            "File copied from /content/preproccessed/cache/cache.ps1 to /content/test/1003_preprocessed.ps1\n",
            "File at /content/preproccessed/cache/cache.ps1 has been deleted\n"
          ]
        }
      ]
    },
    {
      "cell_type": "code",
      "source": [
        "import re\n",
        "import binascii\n",
        "\n",
        "def get_file_content_and_replace_number(filename):\n",
        "  \"\"\"\n",
        "  This function reads the content of a text file and stores it in a variable.\n",
        "\n",
        "  Args:\n",
        "      filename: The path to the text file.\n",
        "\n",
        "  Returns:\n",
        "      A string containing the file content, or None if there's an error.\n",
        "  \"\"\"\n",
        "\n",
        "\n",
        "  try:\n",
        "    with open(filename, 'r') as f:\n",
        "      content = f.read()\n",
        "\n",
        "\n",
        "      #number to *\n",
        "      str_text = re.sub(r'\\d+', '*', content)\n",
        "      str_text = re.sub(r'\\s+', ' ', str_text)\n",
        "      # print(str_text)\n",
        "    with open(filename, 'w') as f:\n",
        "      f.write(str_text)\n",
        "      return str_text\n",
        "  except FileNotFoundError:\n",
        "    print(f\"Error: File not found - {filename}\")\n",
        "    return None\n",
        "\n",
        "\n",
        "\n",
        "\n",
        "\n",
        "text = get_file_content_and_replace_number(\"/content/test/1000_preprocessed.ps1\")\n",
        "text = get_file_content_and_replace_number(\"/content/test/1001_preprocessed.ps1\")\n",
        "text = get_file_content_and_replace_number(\"/content/test/1002_preprocessed.ps1\")\n",
        "text = get_file_content_and_replace_number(\"/content/test/1003_preprocessed.ps1\")\n",
        "\n",
        "\n",
        "\n",
        "\n"
      ],
      "metadata": {
        "id": "YKpEDBv62p_b"
      },
      "execution_count": null,
      "outputs": []
    },
    {
      "cell_type": "code",
      "source": [],
      "metadata": {
        "id": "U_4J8Wv1IOqr"
      },
      "execution_count": null,
      "outputs": []
    }
  ]
}